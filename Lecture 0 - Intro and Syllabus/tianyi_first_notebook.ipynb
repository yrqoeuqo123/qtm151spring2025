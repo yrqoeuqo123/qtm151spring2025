{
 "cells": [
  {
   "cell_type": "markdown",
   "metadata": {},
   "source": [
    "<style>\n",
    "@keyframes rainbow {\n",
    "  0%   { color: red; }\n",
    "  20%  { color: orange; }\n",
    "  40%  { color: yellow; }\n",
    "  60%  { color: green; }\n",
    "  80%  { color: blue; }\n",
    "  100% { color: violet; }\n",
    "}\n",
    "\n",
    ".rainbow-text {\n",
    "  font-size: 36px;      \n",
    "  font-weight: bold;   \n",
    "  animation: rainbow 5s infinite;  \n",
    "}\n",
    "</style>\n",
    "\n",
    "<p class=\"rainbow-text\">This is my first Jupyter notebook</p>\n"
   ]
  },
  {
   "cell_type": "markdown",
   "metadata": {},
   "source": [
    "<span style=\"font-size:40px; color:green;\">\n",
    "This is my first Jupyter notebook\n",
    "</span>\n"
   ]
  },
  {
   "cell_type": "markdown",
   "metadata": {},
   "source": [
    "<span style=\"font-size:20px; color:blue;\">\n",
    "This is my first Jupyter notebook\n",
    "</span>\n"
   ]
  },
  {
   "cell_type": "markdown",
   "metadata": {},
   "source": [
    "<span style=\"font-size:30px; color:red;\">\n",
    "This is my first Jupyter notebook\n",
    "</span>\n"
   ]
  },
  {
   "cell_type": "code",
   "execution_count": 1,
   "metadata": {},
   "outputs": [
    {
     "name": "stdout",
     "output_type": "stream",
     "text": [
      "My name is Tianyi Zhang\n"
     ]
    }
   ],
   "source": [
    "print(\"My name is Tianyi Zhang\")"
   ]
  },
  {
   "cell_type": "code",
   "execution_count": 6,
   "metadata": {},
   "outputs": [
    {
     "name": "stdout",
     "output_type": "stream",
     "text": [
      "Selected font: slant\n",
      "  _______                   _    _____   __                     \n",
      " /_  __(_)___ _____  __  __(_)  /__  /  / /_  ____ _____  ____ _\n",
      "  / / / / __ `/ __ \\/ / / / /     / /  / __ \\/ __ `/ __ \\/ __ `/\n",
      " / / / / /_/ / / / / /_/ / /     / /__/ / / / /_/ / / / / /_/ / \n",
      "/_/ /_/\\__,_/_/ /_/\\__, /_/     /____/_/ /_/\\__,_/_/ /_/\\__, /  \n",
      "                  /____/                               /____/   \n",
      "\n",
      "\n"
     ]
    }
   ],
   "source": [
    "import pyfiglet\n",
    "import time\n",
    "import random\n",
    "import sys\n",
    "from colorama import init, Fore, Style\n",
    "\n",
    "init(autoreset=True)\n",
    "\n",
    "fonts = [\n",
    "    'slant',\n",
    "    'banner3-D',\n",
    "    'isometric1',\n",
    "    'shadow',\n",
    "    'digital',\n",
    "    'big',\n",
    "    'speed',\n",
    "    'chunky',\n",
    "    'starwars',\n",
    "    'ogre',\n",
    "]\n",
    "\n",
    "colors = [\n",
    "    Fore.RED,\n",
    "    Fore.GREEN,\n",
    "    Fore.YELLOW,\n",
    "    Fore.BLUE,\n",
    "    Fore.MAGENTA,\n",
    "    Fore.CYAN\n",
    "]\n",
    "\n",
    "\n",
    "font = random.choice(fonts)\n",
    "\n",
    "\n",
    "fancy_name = pyfiglet.figlet_format(\"Tianyi Zhang\", font=font)\n",
    "\n",
    "print(\"Selected font:\", font) \n",
    "\n",
    "for char in fancy_name:\n",
    "   \n",
    "    color = random.choice(colors)\n",
    "    sys.stdout.write(color + char + Style.RESET_ALL)\n",
    "    sys.stdout.flush()\n",
    "    time.sleep(0.008)\n",
    "\n",
    "print(\"\\n\")\n"
   ]
  }
 ],
 "metadata": {
  "kernelspec": {
   "display_name": "base",
   "language": "python",
   "name": "python3"
  },
  "language_info": {
   "codemirror_mode": {
    "name": "ipython",
    "version": 3
   },
   "file_extension": ".py",
   "mimetype": "text/x-python",
   "name": "python",
   "nbconvert_exporter": "python",
   "pygments_lexer": "ipython3",
   "version": "3.12.7"
  }
 },
 "nbformat": 4,
 "nbformat_minor": 2
}
