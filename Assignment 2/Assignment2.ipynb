{
 "cells": [
  {
   "attachments": {},
   "cell_type": "markdown",
   "metadata": {},
   "source": [
    "# Assignment 2  \n",
    "**Name**: Tianyi Zhang  \n",
    "**Class**: QTM151  \n"
   ]
  },
  {
   "attachments": {},
   "cell_type": "markdown",
   "metadata": {},
   "source": [
    "## Submit as an HTML file"
   ]
  },
  {
   "attachments": {},
   "cell_type": "markdown",
   "metadata": {},
   "source": [
    "<font size = \"5\">\n",
    "Print your name below"
   ]
  },
  {
   "cell_type": "code",
   "execution_count": 13,
   "metadata": {},
   "outputs": [
    {
     "name": "stdout",
     "output_type": "stream",
     "text": [
      "Name: Tianyi Zhang\n",
      "Class: QTM151\n",
      "Assignment 2\n",
      " _____ _                   _   ______                       \n",
      "|_   _(_) __ _ _ __  _   _(_) |__  / |__   __ _ _ __   __ _ \n",
      "  | | | |/ _` | '_ \\| | | | |   / /| '_ \\ / _` | '_ \\ / _` |\n",
      "  | | | | (_| | | | | |_| | |  / /_| | | | (_| | | | | (_| |\n",
      "  |_| |_|\\__,_|_| |_|\\__, |_| /____|_| |_|\\__,_|_| |_|\\__, |\n",
      "                     |___/                            |___/ \n",
      "\n",
      "  ___ _____ __  __ _ ____  _ \n",
      " / _ \\_   _|  \\/  / | ___|/ |\n",
      "| | | || | | |\\/| | |___ \\| |\n",
      "| |_| || | | |  | | |___) | |\n",
      " \\__\\_\\|_| |_|  |_|_|____/|_|\n",
      "                             \n",
      "\n"
     ]
    }
   ],
   "source": [
    "# Write your answer\n",
    "\n",
    "# Way 1\n",
    "print(\"Name: Tianyi Zhang\")\n",
    "print(\"Class: QTM151\")\n",
    "\n",
    "\n",
    "import pyfiglet\n",
    "\n",
    "# name and class\n",
    "name = \"Tianyi Zhang\"\n",
    "class_name = \"QTM151\"\n",
    "\n",
    "fancy_name = pyfiglet.figlet_format(name)\n",
    "fancy_class = pyfiglet.figlet_format(class_name)\n",
    "\n",
    "print(\"Assignment 2\")\n",
    "print(fancy_name)\n",
    "print(fancy_class)"
   ]
  },
  {
   "attachments": {},
   "cell_type": "markdown",
   "metadata": {},
   "source": [
    "<font size = \"5\">\n",
    "\n",
    "(a) Import the pandas and matplotlib packages"
   ]
  },
  {
   "cell_type": "code",
   "execution_count": 14,
   "metadata": {},
   "outputs": [],
   "source": [
    "# Write your answer\n",
    "\n",
    "import pandas as pd\n",
    "import matplotlib.pyplot as plt"
   ]
  },
  {
   "attachments": {},
   "cell_type": "markdown",
   "metadata": {},
   "source": [
    "<font size = \"5\">\n",
    "\n",
    "(b) Open the dataset \"united_states_co2_emissions.csv\" in the \"data\" folder\n",
    "\n",
    "<font size = \"3\">\n",
    "\n",
    "- Read it as a pandas object called \"us_emissions\"\n",
    "- Note: This contains CO2 emissions (in kilotons) by the United States from 1960-2019. <br/> \n",
    "It is compiled from various sources, including the United Nations Framework Convention <br/>\n",
    "on Climate Change (UNFCCC) and the International Energy Agency (IEA)."
   ]
  },
  {
   "cell_type": "code",
   "execution_count": 15,
   "metadata": {},
   "outputs": [
    {
     "name": "stdout",
     "output_type": "stream",
     "text": [
      "   year  total_emissions\n",
      "0  1960      2890696.100\n",
      "1  1961      2880505.507\n",
      "2  1962      2987207.873\n",
      "3  1963      3119230.874\n",
      "4  1964      3255995.306\n",
      "The dataset contains data from 1960 to 2019.\n",
      "The dataset covers the full range from 1960 to 2019.\n"
     ]
    }
   ],
   "source": [
    "# Write your answer\n",
    "\n",
    "import pandas as pd\n",
    "\n",
    "# Read the dataset\n",
    "us_emissions = pd.read_csv('./data/united_states_co2_emissions.csv')\n",
    "\n",
    "# Display the first few rows to confirm it loaded correctly\n",
    "print(us_emissions.head())\n",
    "\n",
    "# Check the year range in the dataset\n",
    "min_year = us_emissions['year'].min()  # Find the earliest year\n",
    "max_year = us_emissions['year'].max()  # Find the latest year\n",
    "\n",
    "print(f\"The dataset contains data from {min_year} to {max_year}.\")\n",
    "\n",
    "if min_year <= 1960 and max_year >= 2019:\n",
    "    print(\"The dataset covers the full range from 1960 to 2019.\")\n",
    "else:\n",
    "    print(\"The dataset does not fully cover the range from 1960 to 2019.\")\n"
   ]
  },
  {
   "attachments": {},
   "cell_type": "markdown",
   "metadata": {},
   "source": [
    "<font size = \"5\">\n",
    "\n",
    "(c) View the dataset and create a list of variable names\n",
    "\n",
    "<font size = \"3\">\n",
    "\n",
    "- Create a list, e.g. \"variable_names = [ \"name1\", \"name2\"]\"\n",
    "\n",
    "- Manually type the names of the 2 variables\n",
    "\n"
   ]
  },
  {
   "cell_type": "code",
   "execution_count": 16,
   "metadata": {},
   "outputs": [
    {
     "name": "stdout",
     "output_type": "stream",
     "text": [
      "   year  total_emissions\n",
      "0  1960      2890696.100\n",
      "1  1961      2880505.507\n",
      "2  1962      2987207.873\n",
      "3  1963      3119230.874\n",
      "4  1964      3255995.306\n",
      "Index(['year', 'total_emissions'], dtype='object')\n",
      "Variable names: ['year', 'total_emissions']\n"
     ]
    }
   ],
   "source": [
    "# Write your answer\n",
    "print(us_emissions.head())  \n",
    "print(us_emissions.columns)  \n",
    "\n",
    "# Create a list of variable names manually\n",
    "variable_names = [\"year\", \"total_emissions\"]\n",
    "print(\"Variable names:\", variable_names)"
   ]
  },
  {
   "attachments": {},
   "cell_type": "markdown",
   "metadata": {},
   "source": [
    "<font size = \"5\">\n",
    "\n",
    "(d) Compute descriptive statistics for the 2nd variable in the dataset\n",
    "\n",
    "<font size = \"3\">\n",
    "\n",
    "- One way to do this is:\n",
    "\n",
    "us_emissions[\"total_emissions\"].describe()\n",
    "\n",
    "- Do something similar, but with the list you created above.\n",
    "- Substitute \"total_emissions\" with a command that automatically extracts the 2nd element in the list\n",
    "- Remember that the numbering in Python starts at zero\n",
    "- For example:\n",
    "\n",
    "list_colors = [\"red\",\"green\",\"yellow\"]\n",
    "\n",
    "list_colors[2] will output \"yellow\""
   ]
  },
  {
   "cell_type": "code",
   "execution_count": 17,
   "metadata": {},
   "outputs": [
    {
     "name": "stdout",
     "output_type": "stream",
     "text": [
      "Descriptive statistics for total_emissions:\n",
      "count    6.000000e+01\n",
      "mean     4.733944e+06\n",
      "std      7.568200e+05\n",
      "min      2.880506e+06\n",
      "25%      4.457976e+06\n",
      "50%      4.862075e+06\n",
      "75%      5.160723e+06\n",
      "max      5.775810e+06\n",
      "Name: total_emissions, dtype: float64\n"
     ]
    }
   ],
   "source": [
    "# Write your answer\n",
    "\n",
    "# Compute descriptive statistics for total emissions\n",
    "second_variable = variable_names[1]  \n",
    "descriptive_stats = us_emissions[second_variable].describe()  \n",
    "\n",
    "print(f\"Descriptive statistics for {second_variable}:\")\n",
    "print(descriptive_stats)\n"
   ]
  },
  {
   "attachments": {},
   "cell_type": "markdown",
   "metadata": {},
   "source": [
    "<font size = \"5\">\n",
    "\n",
    "(e) Import the datasets as you did in part (b) for any 2 countries from the <br/> \n",
    "\"data\" folder and create 2 scatter plots that have \"year\" in the x-axis and <br/>\n",
    "\"total_emissions\" in the y-axis.\n",
    "\n",
    "<font size = \"3\">\n",
    "\n",
    "- The \"data\" folder contains the datasets for the top 10 CO2 emitting countries\n",
    "- Label the axes for full points\n",
    "- Use \"plt.title(\"Relevant Title for Plot\")\" to label the title\n",
    "- Use \"plt.show()\" after creating each plot to ensure both are displayed\n",
    "- Note: This question does not depend on (d)"
   ]
  },
  {
   "cell_type": "code",
   "execution_count": 19,
   "metadata": {},
   "outputs": [
    {
     "data": {
      "image/png": "[encoded data removed]",
      "text/plain": [
       "<Figure size 640x480 with 1 Axes>"
      ]
     },
     "metadata": {},
     "output_type": "display_data"
    },
    {
     "data": {
      "image/png": "[encoded data removed]",
      "text/plain": [
       "<Figure size 640x480 with 1 Axes>"
      ]
     },
     "metadata": {},
     "output_type": "display_data"
    }
   ],
   "source": [
    "# Write your answer\n",
    "import pandas as pd\n",
    "import matplotlib.pyplot as plt\n",
    "\n",
    "# Read the datasets for China and India\n",
    "china_emissions = pd.read_csv('./data/china_co2_emissions.csv')\n",
    "india_emissions = pd.read_csv('./data/india_co2_emissions.csv')\n",
    "\n",
    "# Scatter plot for China\n",
    "plt.scatter(china_emissions['year'], china_emissions['total_emissions'], color='red', label='China')\n",
    "plt.xlabel(\"Year\")\n",
    "plt.ylabel(\"Total CO2 Emissions (kilotons)\")\n",
    "plt.title(\"CO2 Emissions Over Time: China\")\n",
    "plt.legend()\n",
    "plt.show()\n",
    "\n",
    "# Scatter plot for India\n",
    "plt.scatter(india_emissions['year'], india_emissions['total_emissions'], color='orange', label='India')\n",
    "plt.xlabel(\"Year\")\n",
    "plt.ylabel(\"Total CO2 Emissions (kilotons)\")\n",
    "plt.title(\"CO2 Emissions Over Time: India\")\n",
    "plt.legend()\n",
    "plt.show()\n",
    "\n",
    "\n"
   ]
  },
  {
   "cell_type": "code",
   "execution_count": 22,
   "metadata": {},
   "outputs": [
    {
     "data": {
      "application/vnd.plotly.v1+json": {
       "config": {
        "plotlyServerURL": "https://plot.ly"
       },
       "data": [
        {
         "hovertemplate": "<b>%{hovertext}</b><br><br>Country=China<br>Year=%{x}<br>Total CO2 Emissions (kilotons)=%{y}<extra></extra>",
         "hovertext": [
          "China",
          "China",
          "China",
          "China",
          "China",
          "China",
          "China",
          "China",
          "China",
          "China",
          "China",
          "China",
          "China",
          "China",
          "China",
          "China",
          "China",
          "China",
          "China",
          "China",
          "China",
          "China",
          "China",
          "China",
          "China",
          "China",
          "China",
          "China",
          "China",
          "China",
          "China",
          "China",
          "China",
          "China",
          "China",
          "China",
          "China",
          "China",
          "China",
          "China",
          "China",
          "China",
          "China",
          "China",
          "China",
          "China",
          "China",
          "China",
          "China",
          "China",
          "China",
          "China",
          "China",
          "China",
          "China",
          "China",
          "China",
          "China",
          "China",
          "China"
         ],
         "legendgroup": "China",
         "marker": {
          "color": "#636efa",
          "symbol": "circle"
         },
         "mode": "markers",
         "name": "China",
         "orientation": "v",
         "showlegend": true,
         "type": "scatter",
         "x": [
          1960,
          1961,
          1962,
          1963,
          1964,
          1965,
          1966,
          1967,
          1968,
          1969,
          1970,
          1971,
          1972,
          1973,
          1974,
          1975,
          1976,
          1977,
          1978,
          1979,
          1980,
          1981,
          1982,
          1983,
          1984,
          1985,
          1986,
          1987,
          1988,
          1989,
          1990,
          1991,
          1992,
          1993,
          1994,
          1995,
          1996,
          1997,
          1998,
          1999,
          2000,
          2001,
          2002,
          2003,
          2004,
          2005,
          2006,
          2007,
          2008,
          2009,
          2010,
          2011,
          2012,
          2013,
          2014,
          2015,
          2016,
          2017,
          2018,
          2019
         ],
         "xaxis": "x",
         "y": [
          780726.302,
          552066.85,
          440359.029,
          436695.696,
          436923.05,
          475972.933,
          522789.522,
          433234.048,
          468928.626,
          577237.138,
          771617.474,
          876633.02,
          931575.681,
          968542.708,
          988014.478,
          1145607.47,
          1196193.735,
          1310310.775,
          1462168.579,
          1494859.884,
          1467192.369,
          1451501.276,
          1580260.647,
          1667029.201,
          1814908.31,
          1966553.428,
          2068969.071,
          2209708.531,
          2369501.723,
          2408540.605,
          2173360,
          2302180,
          2418180,
          2645410,
          2767670,
          3088620,
          3070510,
          3134110,
          3236280,
          3153660,
          3346530,
          3529080,
          3810060.05859375,
          4415910.15625,
          5124819.82421875,
          5824629.8828125,
          6437470.21484375,
          6993180.17578125,
          7199600.09765625,
          7719069.82421875,
          8474919.921875,
          9282549.8046875,
          9541870.1171875,
          9984570.3125,
          10006669.921875,
          9861099.609375,
          9874660.15625,
          10096009.765625,
          10502929.6875,
          10707219.7265625
         ],
         "yaxis": "y"
        },
        {
         "hovertemplate": "<b>%{hovertext}</b><br><br>Country=Germany<br>Year=%{x}<br>Total CO2 Emissions (kilotons)=%{y}<extra></extra>",
         "hovertext": [
          "Germany",
          "Germany",
          "Germany",
          "Germany",
          "Germany",
          "Germany",
          "Germany",
          "Germany",
          "Germany",
          "Germany",
          "Germany",
          "Germany",
          "Germany",
          "Germany",
          "Germany",
          "Germany",
          "Germany",
          "Germany",
          "Germany",
          "Germany",
          "Germany",
          "Germany",
          "Germany",
          "Germany",
          "Germany",
          "Germany",
          "Germany",
          "Germany",
          "Germany",
          "Germany"
         ],
         "legendgroup": "Germany",
         "marker": {
          "color": "#EF553B",
          "symbol": "circle"
         },
         "mode": "markers",
         "name": "Germany",
         "orientation": "v",
         "showlegend": true,
         "type": "scatter",
         "x": [
          1990,
          1991,
          1992,
          1993,
          1994,
          1995,
          1996,
          1997,
          1998,
          1999,
          2000,
          2001,
          2002,
          2003,
          2004,
          2005,
          2006,
          2007,
          2008,
          2009,
          2010,
          2011,
          2012,
          2013,
          2014,
          2015,
          2016,
          2017,
          2018,
          2019
         ],
         "xaxis": "x",
         "y": [
          955310,
          932550,
          892820,
          887060,
          875900,
          874660,
          904340,
          872650,
          865250,
          833590,
          830280,
          847680,
          833380.004882813,
          836789.978027344,
          821070.007324219,
          802380.004882813,
          814409.973144531,
          783799.987792969,
          789690.002441406,
          734809.997558594,
          773070.007324219,
          746479.98046875,
          760130.004882813,
          776150.024414063,
          736010.009765625,
          742309.997558594,
          747150.024414063,
          732200.012207031,
          707700.012207031,
          657400.024414063
         ],
         "yaxis": "y"
        },
        {
         "hovertemplate": "<b>%{hovertext}</b><br><br>Country=India<br>Year=%{x}<br>Total CO2 Emissions (kilotons)=%{y}<extra></extra>",
         "hovertext": [
          "India",
          "India",
          "India",
          "India",
          "India",
          "India",
          "India",
          "India",
          "India",
          "India",
          "India",
          "India",
          "India",
          "India",
          "India",
          "India",
          "India",
          "India",
          "India",
          "India",
          "India",
          "India",
          "India",
          "India",
          "India",
          "India",
          "India",
          "India",
          "India",
          "India",
          "India",
          "India",
          "India",
          "India",
          "India",
          "India",
          "India",
          "India",
          "India",
          "India",
          "India",
          "India",
          "India",
          "India",
          "India",
          "India",
          "India",
          "India",
          "India",
          "India",
          "India",
          "India",
          "India",
          "India",
          "India",
          "India",
          "India",
          "India",
          "India",
          "India"
         ],
         "legendgroup": "India",
         "marker": {
          "color": "#00cc96",
          "symbol": "circle"
         },
         "mode": "markers",
         "name": "India",
         "orientation": "v",
         "showlegend": true,
         "type": "scatter",
         "x": [
          1960,
          1961,
          1962,
          1963,
          1964,
          1965,
          1966,
          1967,
          1968,
          1969,
          1970,
          1971,
          1972,
          1973,
          1974,
          1975,
          1976,
          1977,
          1978,
          1979,
          1980,
          1981,
          1982,
          1983,
          1984,
          1985,
          1986,
          1987,
          1988,
          1989,
          1990,
          1991,
          1992,
          1993,
          1994,
          1995,
          1996,
          1997,
          1998,
          1999,
          2000,
          2001,
          2002,
          2003,
          2004,
          2005,
          2006,
          2007,
          2008,
          2009,
          2010,
          2011,
          2012,
          2013,
          2014,
          2015,
          2016,
          2017,
          2018,
          2019
         ],
         "xaxis": "x",
         "y": [
          120581.961,
          130402.187,
          143467.708,
          154083.673,
          150647.694,
          165972.087,
          171765.947,
          172238.99,
          187336.029,
          190724.337,
          195143.072,
          205869.047,
          217849.136,
          224343.393,
          231992.755,
          252201.592,
          263785.645,
          279051.366,
          283096.067,
          296891.321,
          314016.211,
          338838.134,
          349637.449,
          378669.088,
          388118.947,
          426673.785,
          457571.927,
          488481.07,
          527563.956,
          579008.299,
          563580,
          607230,
          626290,
          651350,
          685900,
          737860,
          774070,
          819270,
          836270,
          901330,
          937860,
          953540,
          985450.012207031,
          1011770.01953125,
          1085670.04394531,
          1136469.97070313,
          1215209.9609375,
          1336739.99023438,
          1424380.00488281,
          1564880.00488281,
          1659979.98046875,
          1756739.99023438,
          1909439.94140625,
          1972430.05371094,
          2147110.10742188,
          2158020.01953125,
          2195250,
          2320409.91210938,
          2451929.93164063,
          2456300.04882813
         ],
         "yaxis": "y"
        },
        {
         "hovertemplate": "<b>%{hovertext}</b><br><br>Country=Indonesia<br>Year=%{x}<br>Total CO2 Emissions (kilotons)=%{y}<extra></extra>",
         "hovertext": [
          "Indonesia",
          "Indonesia",
          "Indonesia",
          "Indonesia",
          "Indonesia",
          "Indonesia",
          "Indonesia",
          "Indonesia",
          "Indonesia",
          "Indonesia",
          "Indonesia",
          "Indonesia",
          "Indonesia",
          "Indonesia",
          "Indonesia",
          "Indonesia",
          "Indonesia",
          "Indonesia",
          "Indonesia",
          "Indonesia",
          "Indonesia",
          "Indonesia",
          "Indonesia",
          "Indonesia",
          "Indonesia",
          "Indonesia",
          "Indonesia",
          "Indonesia",
          "Indonesia",
          "Indonesia",
          "Indonesia",
          "Indonesia",
          "Indonesia",
          "Indonesia",
          "Indonesia",
          "Indonesia",
          "Indonesia",
          "Indonesia",
          "Indonesia",
          "Indonesia",
          "Indonesia",
          "Indonesia",
          "Indonesia",
          "Indonesia",
          "Indonesia",
          "Indonesia",
          "Indonesia",
          "Indonesia",
          "Indonesia",
          "Indonesia",
          "Indonesia",
          "Indonesia",
          "Indonesia",
          "Indonesia",
          "Indonesia",
          "Indonesia",
          "Indonesia",
          "Indonesia",
          "Indonesia",
          "Indonesia"
         ],
         "legendgroup": "Indonesia",
         "marker": {
          "color": "#ab63fa",
          "symbol": "circle"
         },
         "mode": "markers",
         "name": "Indonesia",
         "orientation": "v",
         "showlegend": true,
         "type": "scatter",
         "x": [
          1960,
          1961,
          1962,
          1963,
          1964,
          1965,
          1966,
          1967,
          1968,
          1969,
          1970,
          1971,
          1972,
          1973,
          1974,
          1975,
          1976,
          1977,
          1978,
          1979,
          1980,
          1981,
          1982,
          1983,
          1984,
          1985,
          1986,
          1987,
          1988,
          1989,
          1990,
          1991,
          1992,
          1993,
          1994,
          1995,
          1996,
          1997,
          1998,
          1999,
          2000,
          2001,
          2002,
          2003,
          2004,
          2005,
          2006,
          2007,
          2008,
          2009,
          2010,
          2011,
          2012,
          2013,
          2014,
          2015,
          2016,
          2017,
          2018,
          2019
         ],
         "xaxis": "x",
         "y": [
          21404.279,
          26024.699,
          22995.757,
          22783.071,
          22394.369,
          24689.911,
          23395.46,
          24561.566,
          27586.841,
          33391.702,
          35822.923,
          38987.544,
          43340.273,
          49134.133,
          51260.993,
          53963.572,
          61810.952,
          82434.16,
          93933.872,
          95096.311,
          94784.616,
          100160.438,
          105407.915,
          104956.874,
          112184.531,
          121245.688,
          121740.733,
          123372.548,
          132162.347,
          130966.905,
          148530,
          162400,
          171510,
          185090,
          199180,
          223680,
          236720,
          261160,
          262700,
          279480,
          280650,
          302060,
          305640.014648438,
          333890.014648438,
          341239.990234375,
          342149.993896484,
          364470.001220703,
          379959.991455078,
          376140.014648438,
          391079.986572266,
          415519.989013672,
          475309.997558594,
          481510.009765625,
          447940.002441406,
          483910.003662109,
          488549.987792969,
          482510.009765625,
          517320.007324219,
          576989.990234375,
          619840.026855469
         ],
         "yaxis": "y"
        },
        {
         "hovertemplate": "<b>%{hovertext}</b><br><br>Country=Iran Islamic Rep<br>Year=%{x}<br>Total CO2 Emissions (kilotons)=%{y}<extra></extra>",
         "hovertext": [
          "Iran Islamic Rep",
          "Iran Islamic Rep",
          "Iran Islamic Rep",
          "Iran Islamic Rep",
          "Iran Islamic Rep",
          "Iran Islamic Rep",
          "Iran Islamic Rep",
          "Iran Islamic Rep",
          "Iran Islamic Rep",
          "Iran Islamic Rep",
          "Iran Islamic Rep",
          "Iran Islamic Rep",
          "Iran Islamic Rep",
          "Iran Islamic Rep",
          "Iran Islamic Rep",
          "Iran Islamic Rep",
          "Iran Islamic Rep",
          "Iran Islamic Rep",
          "Iran Islamic Rep",
          "Iran Islamic Rep",
          "Iran Islamic Rep",
          "Iran Islamic Rep",
          "Iran Islamic Rep",
          "Iran Islamic Rep",
          "Iran Islamic Rep",
          "Iran Islamic Rep",
          "Iran Islamic Rep",
          "Iran Islamic Rep",
          "Iran Islamic Rep",
          "Iran Islamic Rep",
          "Iran Islamic Rep",
          "Iran Islamic Rep",
          "Iran Islamic Rep",
          "Iran Islamic Rep",
          "Iran Islamic Rep",
          "Iran Islamic Rep",
          "Iran Islamic Rep",
          "Iran Islamic Rep",
          "Iran Islamic Rep",
          "Iran Islamic Rep",
          "Iran Islamic Rep",
          "Iran Islamic Rep",
          "Iran Islamic Rep",
          "Iran Islamic Rep",
          "Iran Islamic Rep",
          "Iran Islamic Rep",
          "Iran Islamic Rep",
          "Iran Islamic Rep",
          "Iran Islamic Rep",
          "Iran Islamic Rep",
          "Iran Islamic Rep",
          "Iran Islamic Rep",
          "Iran Islamic Rep",
          "Iran Islamic Rep",
          "Iran Islamic Rep",
          "Iran Islamic Rep",
          "Iran Islamic Rep",
          "Iran Islamic Rep",
          "Iran Islamic Rep",
          "Iran Islamic Rep"
         ],
         "legendgroup": "Iran Islamic Rep",
         "marker": {
          "color": "#FFA15A",
          "symbol": "circle"
         },
         "mode": "markers",
         "name": "Iran Islamic Rep",
         "orientation": "v",
         "showlegend": true,
         "type": "scatter",
         "x": [
          1960,
          1961,
          1962,
          1963,
          1964,
          1965,
          1966,
          1967,
          1968,
          1969,
          1970,
          1971,
          1972,
          1973,
          1974,
          1975,
          1976,
          1977,
          1978,
          1979,
          1980,
          1981,
          1982,
          1983,
          1984,
          1985,
          1986,
          1987,
          1988,
          1989,
          1990,
          1991,
          1992,
          1993,
          1994,
          1995,
          1996,
          1997,
          1998,
          1999,
          2000,
          2001,
          2002,
          2003,
          2004,
          2005,
          2006,
          2007,
          2008,
          2009,
          2010,
          2011,
          2012,
          2013,
          2014,
          2015,
          2016,
          2017,
          2018,
          2019
         ],
         "xaxis": "x",
         "y": [
          37392.399,
          36541.655,
          37462.072,
          41341.758,
          47560.99,
          53765.554,
          64161.499,
          67942.176,
          82404.824,
          83116.222,
          91873.018,
          101722.58,
          106115.646,
          129595.447,
          143911.415,
          139349.667,
          156643.239,
          163969.905,
          162470.102,
          164028.577,
          120900.99,
          112899.596,
          138007.545,
          149785.949,
          150658.695,
          160768.614,
          148399.823,
          159573.172,
          176115.009,
          191204.714,
          198470,
          219100,
          233650,
          236730,
          266690,
          271520,
          279810,
          292400,
          290990,
          323360,
          340450,
          354070,
          369869.995117188,
          389769.989013672,
          417660.003662109,
          450790.008544922,
          484179.992675781,
          514140.014648438,
          523049.987792969,
          542289.978027344,
          541169.982910156,
          552049.987792969,
          559119.995117188,
          583700.012207031,
          605349.975585938,
          599179.992675781,
          607210.021972656,
          626419.982910156,
          637429.992675781,
          630010.009765625
         ],
         "yaxis": "y"
        },
        {
         "hovertemplate": "<b>%{hovertext}</b><br><br>Country=Japan<br>Year=%{x}<br>Total CO2 Emissions (kilotons)=%{y}<extra></extra>",
         "hovertext": [
          "Japan",
          "Japan",
          "Japan",
          "Japan",
          "Japan",
          "Japan",
          "Japan",
          "Japan",
          "Japan",
          "Japan",
          "Japan",
          "Japan",
          "Japan",
          "Japan",
          "Japan",
          "Japan",
          "Japan",
          "Japan",
          "Japan",
          "Japan",
          "Japan",
          "Japan",
          "Japan",
          "Japan",
          "Japan",
          "Japan",
          "Japan",
          "Japan",
          "Japan",
          "Japan",
          "Japan",
          "Japan",
          "Japan",
          "Japan",
          "Japan",
          "Japan",
          "Japan",
          "Japan",
          "Japan",
          "Japan",
          "Japan",
          "Japan",
          "Japan",
          "Japan",
          "Japan",
          "Japan",
          "Japan",
          "Japan",
          "Japan",
          "Japan",
          "Japan",
          "Japan",
          "Japan",
          "Japan",
          "Japan",
          "Japan",
          "Japan",
          "Japan",
          "Japan",
          "Japan"
         ],
         "legendgroup": "Japan",
         "marker": {
          "color": "#19d3f3",
          "symbol": "circle"
         },
         "mode": "markers",
         "name": "Japan",
         "orientation": "v",
         "showlegend": true,
         "type": "scatter",
         "x": [
          1960,
          1961,
          1962,
          1963,
          1964,
          1965,
          1966,
          1967,
          1968,
          1969,
          1970,
          1971,
          1972,
          1973,
          1974,
          1975,
          1976,
          1977,
          1978,
          1979,
          1980,
          1981,
          1982,
          1983,
          1984,
          1985,
          1986,
          1987,
          1988,
          1989,
          1990,
          1991,
          1992,
          1993,
          1994,
          1995,
          1996,
          1997,
          1998,
          1999,
          2000,
          2001,
          2002,
          2003,
          2004,
          2005,
          2006,
          2007,
          2008,
          2009,
          2010,
          2011,
          2012,
          2013,
          2014,
          2015,
          2016,
          2017,
          2018,
          2019
         ],
         "xaxis": "x",
         "y": [
          232781.16,
          283118.069,
          293220.654,
          325222.563,
          359318.329,
          386919.838,
          419743.155,
          489881.864,
          562565.471,
          653958.112,
          768823.22,
          797543.164,
          853373.239,
          915748.909,
          915873.587,
          870072.757,
          908902.62,
          935213.345,
          903886.164,
          955620.2,
          947571.135,
          929606.502,
          900200.829,
          883838.675,
          940130.792,
          915396.877,
          915334.538,
          905734.332,
          989081.575,
          1025549.89,
          1090530,
          1103980,
          1115060,
          1107610,
          1160780,
          1171010,
          1184670,
          1172630,
          1130310,
          1165320,
          1182610,
          1170380,
          1206599.97558594,
          1214949.95117188,
          1209849.97558594,
          1212819.94628906,
          1189520.01953125,
          1225069.94628906,
          1158219.97070313,
          1100979.98046875,
          1156479.98046875,
          1213520.01953125,
          1253609.98535156,
          1262780.02929688,
          1217119.99511719,
          1179439.94140625,
          1167790.0390625,
          1155229.98046875,
          1116150.02441406,
          1081569.94628906
         ],
         "yaxis": "y"
        },
        {
         "hovertemplate": "<b>%{hovertext}</b><br><br>Country=Korea Rep<br>Year=%{x}<br>Total CO2 Emissions (kilotons)=%{y}<extra></extra>",
         "hovertext": [
          "Korea Rep",
          "Korea Rep",
          "Korea Rep",
          "Korea Rep",
          "Korea Rep",
          "Korea Rep",
          "Korea Rep",
          "Korea Rep",
          "Korea Rep",
          "Korea Rep",
          "Korea Rep",
          "Korea Rep",
          "Korea Rep",
          "Korea Rep",
          "Korea Rep",
          "Korea Rep",
          "Korea Rep",
          "Korea Rep",
          "Korea Rep",
          "Korea Rep",
          "Korea Rep",
          "Korea Rep",
          "Korea Rep",
          "Korea Rep",
          "Korea Rep",
          "Korea Rep",
          "Korea Rep",
          "Korea Rep",
          "Korea Rep",
          "Korea Rep",
          "Korea Rep",
          "Korea Rep",
          "Korea Rep",
          "Korea Rep",
          "Korea Rep",
          "Korea Rep",
          "Korea Rep",
          "Korea Rep",
          "Korea Rep",
          "Korea Rep",
          "Korea Rep",
          "Korea Rep",
          "Korea Rep",
          "Korea Rep",
          "Korea Rep",
          "Korea Rep",
          "Korea Rep",
          "Korea Rep",
          "Korea Rep",
          "Korea Rep",
          "Korea Rep",
          "Korea Rep",
          "Korea Rep",
          "Korea Rep",
          "Korea Rep",
          "Korea Rep",
          "Korea Rep",
          "Korea Rep",
          "Korea Rep",
          "Korea Rep"
         ],
         "legendgroup": "Korea Rep",
         "marker": {
          "color": "#FF6692",
          "symbol": "circle"
         },
         "mode": "markers",
         "name": "Korea Rep",
         "orientation": "v",
         "showlegend": true,
         "type": "scatter",
         "x": [
          1960,
          1961,
          1962,
          1963,
          1964,
          1965,
          1966,
          1967,
          1968,
          1969,
          1970,
          1971,
          1972,
          1973,
          1974,
          1975,
          1976,
          1977,
          1978,
          1979,
          1980,
          1981,
          1982,
          1983,
          1984,
          1985,
          1986,
          1987,
          1988,
          1989,
          1990,
          1991,
          1992,
          1993,
          1994,
          1995,
          1996,
          1997,
          1998,
          1999,
          2000,
          2001,
          2002,
          2003,
          2004,
          2005,
          2006,
          2007,
          2008,
          2009,
          2010,
          2011,
          2012,
          2013,
          2014,
          2015,
          2016,
          2017,
          2018,
          2019
         ],
         "xaxis": "x",
         "y": [
          12552.141,
          14462.648,
          17278.904,
          21103.585,
          22218.353,
          25005.273,
          30014.395,
          35151.862,
          37242.052,
          42522.532,
          53783.889,
          58616.995,
          60336.818,
          73094.311,
          75686.88,
          81829.105,
          93306.815,
          105712.276,
          113405.642,
          133211.109,
          134868.593,
          139742.036,
          141905.566,
          150904.384,
          163911.233,
          178333.544,
          182451.585,
          192660.513,
          221959.843,
          235846.772,
          247680,
          274790,
          297050,
          327600,
          354280,
          385410,
          409990,
          431640,
          366570,
          401880,
          456660,
          471530,
          463000,
          465700.012207031,
          485910.003662109,
          481000,
          487850.006103516,
          503690.002441406,
          514919.982910156,
          526640.014648438,
          575219.970703125,
          598479.98046875,
          600320.007324219,
          599599.975585938,
          588090.026855469,
          607830.017089844,
          615880.004882813,
          626630.004882813,
          630640.014648438,
          610789.978027344
         ],
         "yaxis": "y"
        },
        {
         "hovertemplate": "<b>%{hovertext}</b><br><br>Country=Russian Federation<br>Year=%{x}<br>Total CO2 Emissions (kilotons)=%{y}<extra></extra>",
         "hovertext": [
          "Russian Federation",
          "Russian Federation",
          "Russian Federation",
          "Russian Federation",
          "Russian Federation",
          "Russian Federation",
          "Russian Federation",
          "Russian Federation",
          "Russian Federation",
          "Russian Federation",
          "Russian Federation",
          "Russian Federation",
          "Russian Federation",
          "Russian Federation",
          "Russian Federation",
          "Russian Federation",
          "Russian Federation",
          "Russian Federation",
          "Russian Federation",
          "Russian Federation",
          "Russian Federation",
          "Russian Federation",
          "Russian Federation",
          "Russian Federation",
          "Russian Federation",
          "Russian Federation",
          "Russian Federation",
          "Russian Federation",
          "Russian Federation",
          "Russian Federation",
          "Russian Federation",
          "Russian Federation",
          "Russian Federation",
          "Russian Federation",
          "Russian Federation",
          "Russian Federation",
          "Russian Federation",
          "Russian Federation",
          "Russian Federation",
          "Russian Federation",
          "Russian Federation",
          "Russian Federation",
          "Russian Federation",
          "Russian Federation",
          "Russian Federation",
          "Russian Federation",
          "Russian Federation",
          "Russian Federation",
          "Russian Federation",
          "Russian Federation",
          "Russian Federation",
          "Russian Federation",
          "Russian Federation",
          "Russian Federation",
          "Russian Federation",
          "Russian Federation",
          "Russian Federation",
          "Russian Federation",
          "Russian Federation",
          "Russian Federation"
         ],
         "legendgroup": "Russian Federation",
         "marker": {
          "color": "#B6E880",
          "symbol": "circle"
         },
         "mode": "markers",
         "name": "Russian Federation",
         "orientation": "v",
         "showlegend": true,
         "type": "scatter",
         "x": [
          1960,
          1961,
          1962,
          1963,
          1964,
          1965,
          1966,
          1967,
          1968,
          1969,
          1970,
          1971,
          1972,
          1973,
          1974,
          1975,
          1976,
          1977,
          1978,
          1979,
          1980,
          1981,
          1982,
          1983,
          1984,
          1985,
          1986,
          1987,
          1988,
          1989,
          1990,
          1991,
          1992,
          1993,
          1994,
          1995,
          1996,
          1997,
          1998,
          1999,
          2000,
          2001,
          2002,
          2003,
          2004,
          2005,
          2006,
          2007,
          2008,
          2009,
          2010,
          2011,
          2012,
          2013,
          2014,
          2015,
          2016,
          2017,
          2018,
          2019
         ],
         "xaxis": "x",
         "y": [
          1448637.349,
          1493932.133,
          1567950.528,
          1681524.852,
          1788304.225,
          1897052.777,
          2003392.11,
          2094843.423,
          2153698.773,
          2242938.885,
          2359142.448,
          2503944.944,
          2634955.853,
          2746751.682,
          2851891.906,
          2998311.549,
          3113979.73,
          3220146.714,
          3330904.782,
          3358623.635,
          3491017.003,
          3425062.341,
          3489821.561,
          3539850.442,
          3571709.338,
          3851989.149,
          3862509.772,
          3847244.051,
          3950345.423,
          3862616.115,
          2163530,
          2136440,
          2030810,
          1880250,
          1685050,
          1635490,
          1601180,
          1489510,
          1487970,
          1523720,
          1563850,
          1567170,
          1565339.96582031,
          1610000,
          1600979.98046875,
          1611979.98046875,
          1654849.97558594,
          1658150.02441406,
          1655189.94140625,
          1546670.04394531,
          1617829.95605469,
          1699089.96582031,
          1675760.00976563,
          1632680.05371094,
          1611959.9609375,
          1592560.05859375,
          1571520.01953125,
          1594550.04882813,
          1661000,
          1703589.96582031
         ],
         "yaxis": "y"
        },
        {
         "hovertemplate": "<b>%{hovertext}</b><br><br>Country=Saudi Arabia<br>Year=%{x}<br>Total CO2 Emissions (kilotons)=%{y}<extra></extra>",
         "hovertext": [
          "Saudi Arabia",
          "Saudi Arabia",
          "Saudi Arabia",
          "Saudi Arabia",
          "Saudi Arabia",
          "Saudi Arabia",
          "Saudi Arabia",
          "Saudi Arabia",
          "Saudi Arabia",
          "Saudi Arabia",
          "Saudi Arabia",
          "Saudi Arabia",
          "Saudi Arabia",
          "Saudi Arabia",
          "Saudi Arabia",
          "Saudi Arabia",
          "Saudi Arabia",
          "Saudi Arabia",
          "Saudi Arabia",
          "Saudi Arabia",
          "Saudi Arabia",
          "Saudi Arabia",
          "Saudi Arabia",
          "Saudi Arabia",
          "Saudi Arabia",
          "Saudi Arabia",
          "Saudi Arabia",
          "Saudi Arabia",
          "Saudi Arabia",
          "Saudi Arabia",
          "Saudi Arabia",
          "Saudi Arabia",
          "Saudi Arabia",
          "Saudi Arabia",
          "Saudi Arabia",
          "Saudi Arabia",
          "Saudi Arabia",
          "Saudi Arabia",
          "Saudi Arabia",
          "Saudi Arabia",
          "Saudi Arabia",
          "Saudi Arabia",
          "Saudi Arabia",
          "Saudi Arabia",
          "Saudi Arabia",
          "Saudi Arabia",
          "Saudi Arabia",
          "Saudi Arabia",
          "Saudi Arabia",
          "Saudi Arabia",
          "Saudi Arabia",
          "Saudi Arabia",
          "Saudi Arabia",
          "Saudi Arabia",
          "Saudi Arabia",
          "Saudi Arabia",
          "Saudi Arabia",
          "Saudi Arabia",
          "Saudi Arabia",
          "Saudi Arabia"
         ],
         "legendgroup": "Saudi Arabia",
         "marker": {
          "color": "#FF97FF",
          "symbol": "circle"
         },
         "mode": "markers",
         "name": "Saudi Arabia",
         "orientation": "v",
         "showlegend": true,
         "type": "scatter",
         "x": [
          1960,
          1961,
          1962,
          1963,
          1964,
          1965,
          1966,
          1967,
          1968,
          1969,
          1970,
          1971,
          1972,
          1973,
          1974,
          1975,
          1976,
          1977,
          1978,
          1979,
          1980,
          1981,
          1982,
          1983,
          1984,
          1985,
          1986,
          1987,
          1988,
          1989,
          1990,
          1991,
          1992,
          1993,
          1994,
          1995,
          1996,
          1997,
          1998,
          1999,
          2000,
          2001,
          2002,
          2003,
          2004,
          2005,
          2006,
          2007,
          2008,
          2009,
          2010,
          2011,
          2012,
          2013,
          2014,
          2015,
          2016,
          2017,
          2018,
          2019
         ],
         "xaxis": "x",
         "y": [
          2676.91,
          3571.658,
          6255.902,
          6945.298,
          7047.974,
          4220.717,
          6413.583,
          25507.652,
          29104.979,
          35302.209,
          45291.117,
          59808.77,
          70344.061,
          95136.648,
          98788.98,
          83336.242,
          101550.231,
          118176.409,
          115132.799,
          138135.89,
          169404.399,
          175491.619,
          158091.704,
          161050.973,
          155715.488,
          172653.361,
          204878.957,
          190706.002,
          202554.079,
          203738.52,
          171410,
          187930,
          202040,
          203260,
          206360,
          204830,
          217650,
          220070,
          233900,
          239520,
          249660,
          254090,
          272250,
          284829.986572266,
          299890.014648438,
          315290.008544922,
          335440.002441406,
          354619.995117188,
          389720.001220703,
          406529.998779297,
          446130.004882813,
          463769.989013672,
          492470.001220703,
          503209.991455078,
          540520.01953125,
          565190.002441406,
          561229.98046875,
          545070.007324219,
          521260.009765625,
          523780.029296875
         ],
         "yaxis": "y"
        },
        {
         "hovertemplate": "<b>%{hovertext}</b><br><br>Country=United States<br>Year=%{x}<br>Total CO2 Emissions (kilotons)=%{y}<extra></extra>",
         "hovertext": [
          "United States",
          "United States",
          "United States",
          "United States",
          "United States",
          "United States",
          "United States",
          "United States",
          "United States",
          "United States",
          "United States",
          "United States",
          "United States",
          "United States",
          "United States",
          "United States",
          "United States",
          "United States",
          "United States",
          "United States",
          "United States",
          "United States",
          "United States",
          "United States",
          "United States",
          "United States",
          "United States",
          "United States",
          "United States",
          "United States",
          "United States",
          "United States",
          "United States",
          "United States",
          "United States",
          "United States",
          "United States",
          "United States",
          "United States",
          "United States",
          "United States",
          "United States",
          "United States",
          "United States",
          "United States",
          "United States",
          "United States",
          "United States",
          "United States",
          "United States",
          "United States",
          "United States",
          "United States",
          "United States",
          "United States",
          "United States",
          "United States",
          "United States",
          "United States",
          "United States"
         ],
         "legendgroup": "United States",
         "marker": {
          "color": "#FECB52",
          "symbol": "circle"
         },
         "mode": "markers",
         "name": "United States",
         "orientation": "v",
         "showlegend": true,
         "type": "scatter",
         "x": [
          1960,
          1961,
          1962,
          1963,
          1964,
          1965,
          1966,
          1967,
          1968,
          1969,
          1970,
          1971,
          1972,
          1973,
          1974,
          1975,
          1976,
          1977,
          1978,
          1979,
          1980,
          1981,
          1982,
          1983,
          1984,
          1985,
          1986,
          1987,
          1988,
          1989,
          1990,
          1991,
          1992,
          1993,
          1994,
          1995,
          1996,
          1997,
          1998,
          1999,
          2000,
          2001,
          2002,
          2003,
          2004,
          2005,
          2006,
          2007,
          2008,
          2009,
          2010,
          2011,
          2012,
          2013,
          2014,
          2015,
          2016,
          2017,
          2018,
          2019
         ],
         "xaxis": "x",
         "y": [
          2890696.1,
          2880505.507,
          2987207.873,
          3119230.874,
          3255995.306,
          3390922.571,
          3561878.111,
          3695708.943,
          3831354.94,
          4024748.853,
          4328904.501,
          4356770.034,
          4564952.958,
          4770194.948,
          4598487.673,
          4406329.539,
          4613100.668,
          4742292.745,
          4890861.25,
          4901796.244,
          4723209.677,
          4535800.308,
          4306748.487,
          4341878.347,
          4475192.132,
          4492555.377,
          4495463.308,
          4688373.177,
          4892526.068,
          4955081.421,
          4844520,
          4807500,
          4879630,
          4995210,
          5066810,
          5117040,
          5273490,
          5543350,
          5590540,
          5609020,
          5775810,
          5748260,
          5593029.78515625,
          5658990.234375,
          5738290.0390625,
          5753490.234375,
          5653080.078125,
          5736319.82421875,
          5558379.8828125,
          5156430.17578125,
          5392109.86328125,
          5173600.09765625,
          4956060.05859375,
          5092100.09765625,
          5107209.9609375,
          4990709.9609375,
          4894500,
          4819370.1171875,
          4975310.05859375,
          4817720.21484375
         ],
         "yaxis": "y"
        }
       ],
       "layout": {
        "legend": {
         "title": {
          "text": "Country"
         },
         "tracegroupgap": 0
        },
        "template": {
         "data": {
          "bar": [
           {
            "error_x": {
             "color": "#f2f5fa"
            },
            "error_y": {
             "color": "#f2f5fa"
            },
            "marker": {
             "line": {
              "color": "rgb(17,17,17)",
              "width": 0.5
             },
             "pattern": {
              "fillmode": "overlay",
              "size": 10,
              "solidity": 0.2
             }
            },
            "type": "bar"
           }
          ],
          "barpolar": [
           {
            "marker": {
             "line": {
              "color": "rgb(17,17,17)",
              "width": 0.5
             },
             "pattern": {
              "fillmode": "overlay",
              "size": 10,
              "solidity": 0.2
             }
            },
            "type": "barpolar"
           }
          ],
          "carpet": [
           {
            "aaxis": {
             "endlinecolor": "#A2B1C6",
             "gridcolor": "#506784",
             "linecolor": "#506784",
             "minorgridcolor": "#506784",
             "startlinecolor": "#A2B1C6"
            },
            "baxis": {
             "endlinecolor": "#A2B1C6",
             "gridcolor": "#506784",
             "linecolor": "#506784",
             "minorgridcolor": "#506784",
             "startlinecolor": "#A2B1C6"
            },
            "type": "carpet"
           }
          ],
          "choropleth": [
           {
            "colorbar": {
             "outlinewidth": 0,
             "ticks": ""
            },
            "type": "choropleth"
           }
          ],
          "contour": [
           {
            "colorbar": {
             "outlinewidth": 0,
             "ticks": ""
            },
            "colorscale": [
             [
              0,
              "#0d0887"
             ],
             [
              0.1111111111111111,
              "#46039f"
             ],
             [
              0.2222222222222222,
              "#7201a8"
             ],
             [
              0.3333333333333333,
              "#9c179e"
             ],
             [
              0.4444444444444444,
              "#bd3786"
             ],
             [
              0.5555555555555556,
              "#d8576b"
             ],
             [
              0.6666666666666666,
              "#ed7953"
             ],
             [
              0.7777777777777778,
              "#fb9f3a"
             ],
             [
              0.8888888888888888,
              "#fdca26"
             ],
             [
              1,
              "#f0f921"
             ]
            ],
            "type": "contour"
           }
          ],
          "contourcarpet": [
           {
            "colorbar": {
             "outlinewidth": 0,
             "ticks": ""
            },
            "type": "contourcarpet"
           }
          ],
          "heatmap": [
           {
            "colorbar": {
             "outlinewidth": 0,
             "ticks": ""
            },
            "colorscale": [
             [
              0,
              "#0d0887"
             ],
             [
              0.1111111111111111,
              "#46039f"
             ],
             [
              0.2222222222222222,
              "#7201a8"
             ],
             [
              0.3333333333333333,
              "#9c179e"
             ],
             [
              0.4444444444444444,
              "#bd3786"
             ],
             [
              0.5555555555555556,
              "#d8576b"
             ],
             [
              0.6666666666666666,
              "#ed7953"
             ],
             [
              0.7777777777777778,
              "#fb9f3a"
             ],
             [
              0.8888888888888888,
              "#fdca26"
             ],
             [
              1,
              "#f0f921"
             ]
            ],
            "type": "heatmap"
           }
          ],
          "heatmapgl": [
           {
            "colorbar": {
             "outlinewidth": 0,
             "ticks": ""
            },
            "colorscale": [
             [
              0,
              "#0d0887"
             ],
             [
              0.1111111111111111,
              "#46039f"
             ],
             [
              0.2222222222222222,
              "#7201a8"
             ],
             [
              0.3333333333333333,
              "#9c179e"
             ],
             [
              0.4444444444444444,
              "#bd3786"
             ],
             [
              0.5555555555555556,
              "#d8576b"
             ],
             [
              0.6666666666666666,
              "#ed7953"
             ],
             [
              0.7777777777777778,
              "#fb9f3a"
             ],
             [
              0.8888888888888888,
              "#fdca26"
             ],
             [
              1,
              "#f0f921"
             ]
            ],
            "type": "heatmapgl"
           }
          ],
          "histogram": [
           {
            "marker": {
             "pattern": {
              "fillmode": "overlay",
              "size": 10,
              "solidity": 0.2
             }
            },
            "type": "histogram"
           }
          ],
          "histogram2d": [
           {
            "colorbar": {
             "outlinewidth": 0,
             "ticks": ""
            },
            "colorscale": [
             [
              0,
              "#0d0887"
             ],
             [
              0.1111111111111111,
              "#46039f"
             ],
             [
              0.2222222222222222,
              "#7201a8"
             ],
             [
              0.3333333333333333,
              "#9c179e"
             ],
             [
              0.4444444444444444,
              "#bd3786"
             ],
             [
              0.5555555555555556,
              "#d8576b"
             ],
             [
              0.6666666666666666,
              "#ed7953"
             ],
             [
              0.7777777777777778,
              "#fb9f3a"
             ],
             [
              0.8888888888888888,
              "#fdca26"
             ],
             [
              1,
              "#f0f921"
             ]
            ],
            "type": "histogram2d"
           }
          ],
          "histogram2dcontour": [
           {
            "colorbar": {
             "outlinewidth": 0,
             "ticks": ""
            },
            "colorscale": [
             [
              0,
              "#0d0887"
             ],
             [
              0.1111111111111111,
              "#46039f"
             ],
             [
              0.2222222222222222,
              "#7201a8"
             ],
             [
              0.3333333333333333,
              "#9c179e"
             ],
             [
              0.4444444444444444,
              "#bd3786"
             ],
             [
              0.5555555555555556,
              "#d8576b"
             ],
             [
              0.6666666666666666,
              "#ed7953"
             ],
             [
              0.7777777777777778,
              "#fb9f3a"
             ],
             [
              0.8888888888888888,
              "#fdca26"
             ],
             [
              1,
              "#f0f921"
             ]
            ],
            "type": "histogram2dcontour"
           }
          ],
          "mesh3d": [
           {
            "colorbar": {
             "outlinewidth": 0,
             "ticks": ""
            },
            "type": "mesh3d"
           }
          ],
          "parcoords": [
           {
            "line": {
             "colorbar": {
              "outlinewidth": 0,
              "ticks": ""
             }
            },
            "type": "parcoords"
           }
          ],
          "pie": [
           {
            "automargin": true,
            "type": "pie"
           }
          ],
          "scatter": [
           {
            "marker": {
             "line": {
              "color": "#283442"
             }
            },
            "type": "scatter"
           }
          ],
          "scatter3d": [
           {
            "line": {
             "colorbar": {
              "outlinewidth": 0,
              "ticks": ""
             }
            },
            "marker": {
             "colorbar": {
              "outlinewidth": 0,
              "ticks": ""
             }
            },
            "type": "scatter3d"
           }
          ],
          "scattercarpet": [
           {
            "marker": {
             "colorbar": {
              "outlinewidth": 0,
              "ticks": ""
             }
            },
            "type": "scattercarpet"
           }
          ],
          "scattergeo": [
           {
            "marker": {
             "colorbar": {
              "outlinewidth": 0,
              "ticks": ""
             }
            },
            "type": "scattergeo"
           }
          ],
          "scattergl": [
           {
            "marker": {
             "line": {
              "color": "#283442"
             }
            },
            "type": "scattergl"
           }
          ],
          "scattermapbox": [
           {
            "marker": {
             "colorbar": {
              "outlinewidth": 0,
              "ticks": ""
             }
            },
            "type": "scattermapbox"
           }
          ],
          "scatterpolar": [
           {
            "marker": {
             "colorbar": {
              "outlinewidth": 0,
              "ticks": ""
             }
            },
            "type": "scatterpolar"
           }
          ],
          "scatterpolargl": [
           {
            "marker": {
             "colorbar": {
              "outlinewidth": 0,
              "ticks": ""
             }
            },
            "type": "scatterpolargl"
           }
          ],
          "scatterternary": [
           {
            "marker": {
             "colorbar": {
              "outlinewidth": 0,
              "ticks": ""
             }
            },
            "type": "scatterternary"
           }
          ],
          "surface": [
           {
            "colorbar": {
             "outlinewidth": 0,
             "ticks": ""
            },
            "colorscale": [
             [
              0,
              "#0d0887"
             ],
             [
              0.1111111111111111,
              "#46039f"
             ],
             [
              0.2222222222222222,
              "#7201a8"
             ],
             [
              0.3333333333333333,
              "#9c179e"
             ],
             [
              0.4444444444444444,
              "#bd3786"
             ],
             [
              0.5555555555555556,
              "#d8576b"
             ],
             [
              0.6666666666666666,
              "#ed7953"
             ],
             [
              0.7777777777777778,
              "#fb9f3a"
             ],
             [
              0.8888888888888888,
              "#fdca26"
             ],
             [
              1,
              "#f0f921"
             ]
            ],
            "type": "surface"
           }
          ],
          "table": [
           {
            "cells": {
             "fill": {
              "color": "#506784"
             },
             "line": {
              "color": "rgb(17,17,17)"
             }
            },
            "header": {
             "fill": {
              "color": "#2a3f5f"
             },
             "line": {
              "color": "rgb(17,17,17)"
             }
            },
            "type": "table"
           }
          ]
         },
         "layout": {
          "annotationdefaults": {
           "arrowcolor": "#f2f5fa",
           "arrowhead": 0,
           "arrowwidth": 1
          },
          "autotypenumbers": "strict",
          "coloraxis": {
           "colorbar": {
            "outlinewidth": 0,
            "ticks": ""
           }
          },
          "colorscale": {
           "diverging": [
            [
             0,
             "#8e0152"
            ],
            [
             0.1,
             "#c51b7d"
            ],
            [
             0.2,
             "#de77ae"
            ],
            [
             0.3,
             "#f1b6da"
            ],
            [
             0.4,
             "#fde0ef"
            ],
            [
             0.5,
             "#f7f7f7"
            ],
            [
             0.6,
             "#e6f5d0"
            ],
            [
             0.7,
             "#b8e186"
            ],
            [
             0.8,
             "#7fbc41"
            ],
            [
             0.9,
             "#4d9221"
            ],
            [
             1,
             "#276419"
            ]
           ],
           "sequential": [
            [
             0,
             "#0d0887"
            ],
            [
             0.1111111111111111,
             "#46039f"
            ],
            [
             0.2222222222222222,
             "#7201a8"
            ],
            [
             0.3333333333333333,
             "#9c179e"
            ],
            [
             0.4444444444444444,
             "#bd3786"
            ],
            [
             0.5555555555555556,
             "#d8576b"
            ],
            [
             0.6666666666666666,
             "#ed7953"
            ],
            [
             0.7777777777777778,
             "#fb9f3a"
            ],
            [
             0.8888888888888888,
             "#fdca26"
            ],
            [
             1,
             "#f0f921"
            ]
           ],
           "sequentialminus": [
            [
             0,
             "#0d0887"
            ],
            [
             0.1111111111111111,
             "#46039f"
            ],
            [
             0.2222222222222222,
             "#7201a8"
            ],
            [
             0.3333333333333333,
             "#9c179e"
            ],
            [
             0.4444444444444444,
             "#bd3786"
            ],
            [
             0.5555555555555556,
             "#d8576b"
            ],
            [
             0.6666666666666666,
             "#ed7953"
            ],
            [
             0.7777777777777778,
             "#fb9f3a"
            ],
            [
             0.8888888888888888,
             "#fdca26"
            ],
            [
             1,
             "#f0f921"
            ]
           ]
          },
          "colorway": [
           "#636efa",
           "#EF553B",
           "#00cc96",
           "#ab63fa",
           "#FFA15A",
           "#19d3f3",
           "#FF6692",
           "#B6E880",
           "#FF97FF",
           "#FECB52"
          ],
          "font": {
           "color": "#f2f5fa"
          },
          "geo": {
           "bgcolor": "rgb(17,17,17)",
           "lakecolor": "rgb(17,17,17)",
           "landcolor": "rgb(17,17,17)",
           "showlakes": true,
           "showland": true,
           "subunitcolor": "#506784"
          },
          "hoverlabel": {
           "align": "left"
          },
          "hovermode": "closest",
          "mapbox": {
           "style": "dark"
          },
          "paper_bgcolor": "rgb(17,17,17)",
          "plot_bgcolor": "rgb(17,17,17)",
          "polar": {
           "angularaxis": {
            "gridcolor": "#506784",
            "linecolor": "#506784",
            "ticks": ""
           },
           "bgcolor": "rgb(17,17,17)",
           "radialaxis": {
            "gridcolor": "#506784",
            "linecolor": "#506784",
            "ticks": ""
           }
          },
          "scene": {
           "xaxis": {
            "backgroundcolor": "rgb(17,17,17)",
            "gridcolor": "#506784",
            "gridwidth": 2,
            "linecolor": "#506784",
            "showbackground": true,
            "ticks": "",
            "zerolinecolor": "#C8D4E3"
           },
           "yaxis": {
            "backgroundcolor": "rgb(17,17,17)",
            "gridcolor": "#506784",
            "gridwidth": 2,
            "linecolor": "#506784",
            "showbackground": true,
            "ticks": "",
            "zerolinecolor": "#C8D4E3"
           },
           "zaxis": {
            "backgroundcolor": "rgb(17,17,17)",
            "gridcolor": "#506784",
            "gridwidth": 2,
            "linecolor": "#506784",
            "showbackground": true,
            "ticks": "",
            "zerolinecolor": "#C8D4E3"
           }
          },
          "shapedefaults": {
           "line": {
            "color": "#f2f5fa"
           }
          },
          "sliderdefaults": {
           "bgcolor": "#C8D4E3",
           "bordercolor": "rgb(17,17,17)",
           "borderwidth": 1,
           "tickwidth": 0
          },
          "ternary": {
           "aaxis": {
            "gridcolor": "#506784",
            "linecolor": "#506784",
            "ticks": ""
           },
           "baxis": {
            "gridcolor": "#506784",
            "linecolor": "#506784",
            "ticks": ""
           },
           "bgcolor": "rgb(17,17,17)",
           "caxis": {
            "gridcolor": "#506784",
            "linecolor": "#506784",
            "ticks": ""
           }
          },
          "title": {
           "x": 0.05
          },
          "updatemenudefaults": {
           "bgcolor": "#506784",
           "borderwidth": 0
          },
          "xaxis": {
           "automargin": true,
           "gridcolor": "#283442",
           "linecolor": "#506784",
           "ticks": "",
           "title": {
            "standoff": 15
           },
           "zerolinecolor": "#283442",
           "zerolinewidth": 2
          },
          "yaxis": {
           "automargin": true,
           "gridcolor": "#283442",
           "linecolor": "#506784",
           "ticks": "",
           "title": {
            "standoff": 15
           },
           "zerolinecolor": "#283442",
           "zerolinewidth": 2
          }
         }
        },
        "title": {
         "text": "CO2 Emissions by Country (Interactive)"
        },
        "updatemenus": [
         {
          "active": -1,
          "buttons": [
           {
            "args": [
             {
              "visible": [
               true,
               true,
               true,
               true,
               true,
               true,
               true,
               true,
               true,
               true
              ]
             }
            ],
            "label": "All Countries",
            "method": "update"
           },
           {
            "args": [
             {
              "visible": [
               true,
               false,
               false,
               false,
               false,
               false,
               false,
               false,
               false,
               false
              ]
             }
            ],
            "label": "China",
            "method": "update"
           },
           {
            "args": [
             {
              "visible": [
               false,
               true,
               false,
               false,
               false,
               false,
               false,
               false,
               false,
               false
              ]
             }
            ],
            "label": "Germany",
            "method": "update"
           },
           {
            "args": [
             {
              "visible": [
               false,
               false,
               true,
               false,
               false,
               false,
               false,
               false,
               false,
               false
              ]
             }
            ],
            "label": "India",
            "method": "update"
           },
           {
            "args": [
             {
              "visible": [
               false,
               false,
               false,
               true,
               false,
               false,
               false,
               false,
               false,
               false
              ]
             }
            ],
            "label": "Indonesia",
            "method": "update"
           },
           {
            "args": [
             {
              "visible": [
               false,
               false,
               false,
               false,
               true,
               false,
               false,
               false,
               false,
               false
              ]
             }
            ],
            "label": "Iran Islamic Rep",
            "method": "update"
           },
           {
            "args": [
             {
              "visible": [
               false,
               false,
               false,
               false,
               false,
               true,
               false,
               false,
               false,
               false
              ]
             }
            ],
            "label": "Japan",
            "method": "update"
           },
           {
            "args": [
             {
              "visible": [
               false,
               false,
               false,
               false,
               false,
               false,
               true,
               false,
               false,
               false
              ]
             }
            ],
            "label": "Korea Rep",
            "method": "update"
           },
           {
            "args": [
             {
              "visible": [
               false,
               false,
               false,
               false,
               false,
               false,
               false,
               true,
               false,
               false
              ]
             }
            ],
            "label": "Russian Federation",
            "method": "update"
           },
           {
            "args": [
             {
              "visible": [
               false,
               false,
               false,
               false,
               false,
               false,
               false,
               false,
               true,
               false
              ]
             }
            ],
            "label": "Saudi Arabia",
            "method": "update"
           },
           {
            "args": [
             {
              "visible": [
               false,
               false,
               false,
               false,
               false,
               false,
               false,
               false,
               false,
               true
              ]
             }
            ],
            "label": "United States",
            "method": "update"
           }
          ]
         }
        ],
        "xaxis": {
         "anchor": "y",
         "domain": [
          0,
          1
         ],
         "title": {
          "text": "Year"
         }
        },
        "yaxis": {
         "anchor": "x",
         "domain": [
          0,
          1
         ],
         "title": {
          "text": "Total CO2 Emissions (kilotons)"
         }
        }
       }
      }
     },
     "metadata": {},
     "output_type": "display_data"
    }
   ],
   "source": [
    "import pandas as pd\n",
    "import plotly.express as px\n",
    "\n",
    "countries = [\"china\", \"germany\", \"india\", \"indonesia\", \"iran_islamic_rep\",\n",
    "             \"japan\", \"korea_rep\", \"russian_federation\", \"saudi_arabia\", \"united_states\"]\n",
    "\n",
    "data = []\n",
    "\n",
    "# load all 10 countries\n",
    "for country in countries:\n",
    "    country_data = pd.read_csv(f'./data/{country}_co2_emissions.csv')\n",
    "    country_data['Country'] = country.replace('_', ' ').title()  # Add a Country column\n",
    "    data.append(country_data)\n",
    "\n",
    "# Combine all datasets\n",
    "all_emissions = pd.concat(data, ignore_index=True)\n",
    "\n",
    "\n",
    "fig = px.scatter(\n",
    "    all_emissions,\n",
    "    x=\"year\",\n",
    "    y=\"total_emissions\",\n",
    "    color=\"Country\",\n",
    "    title=\"CO2 Emissions by Country (Interactive)\",\n",
    "    labels={\"year\": \"Year\", \"total_emissions\": \"Total CO2 Emissions (kilotons)\"},\n",
    "    hover_name=\"Country\",\n",
    "    template=\"plotly_dark\",\n",
    ")\n",
    "\n",
    "# Select countries\n",
    "fig.update_layout(\n",
    "    updatemenus=[\n",
    "        dict(\n",
    "            active=-1,\n",
    "            buttons=[\n",
    "                dict(label=\"All Countries\", method=\"update\", args=[{\"visible\": [True] * len(countries)}]),\n",
    "                *[\n",
    "                    dict(\n",
    "                        label=country.replace('_', ' ').title(),\n",
    "                        method=\"update\",\n",
    "                        args=[\n",
    "                            {\"visible\": [i == index for i in range(len(countries))]},\n",
    "                        ],\n",
    "                    )\n",
    "                    for index, country in enumerate(countries)\n",
    "                ],\n",
    "            ]\n",
    "        )\n",
    "    ]\n",
    ")\n",
    "\n",
    "fig.show()\n"
   ]
  }
 ],
 "metadata": {
  "kernelspec": {
   "display_name": "base",
   "language": "python",
   "name": "python3"
  },
  "language_info": {
   "codemirror_mode": {
    "name": "ipython",
    "version": 3
   },
   "file_extension": ".py",
   "mimetype": "text/x-python",
   "name": "python",
   "nbconvert_exporter": "python",
   "pygments_lexer": "ipython3",
   "version": "3.12.7"
  },
  "orig_nbformat": 4
 },
 "nbformat": 4,
 "nbformat_minor": 2
}
