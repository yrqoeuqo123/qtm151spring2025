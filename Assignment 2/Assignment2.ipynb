{
 "cells": [
  {
   "attachments": {},
   "cell_type": "markdown",
   "metadata": {},
   "source": [
    "# Assignment 2  \n",
    "**Name**: Tianyi Zhang  \n",
    "**Class**: QTM151  \n"
   ]
  },
  {
   "attachments": {},
   "cell_type": "markdown",
   "metadata": {},
   "source": [
    "## Submit as an HTML file"
   ]
  },
  {
   "attachments": {},
   "cell_type": "markdown",
   "metadata": {},
   "source": [
    "<font size = \"5\">\n",
    "Print your name below"
   ]
  },
  {
   "cell_type": "code",
   "execution_count": 5,
   "metadata": {},
   "outputs": [
    {
     "name": "stdout",
     "output_type": "stream",
     "text": [
      "Name: Tianyi Zhang\n",
      "Class: QTM151\n",
      "Assignment 2\n",
      " _____ _                   _   ______                       \n",
      "|_   _(_) __ _ _ __  _   _(_) |__  / |__   __ _ _ __   __ _ \n",
      "  | | | |/ _` | '_ \\| | | | |   / /| '_ \\ / _` | '_ \\ / _` |\n",
      "  | | | | (_| | | | | |_| | |  / /_| | | | (_| | | | | (_| |\n",
      "  |_| |_|\\__,_|_| |_|\\__, |_| /____|_| |_|\\__,_|_| |_|\\__, |\n",
      "                     |___/                            |___/ \n",
      "\n",
      "  ___ _____ __  __ _ ____  _ \n",
      " / _ \\_   _|  \\/  / | ___|/ |\n",
      "| | | || | | |\\/| | |___ \\| |\n",
      "| |_| || | | |  | | |___) | |\n",
      " \\__\\_\\|_| |_|  |_|_|____/|_|\n",
      "                             \n",
      "\n"
     ]
    }
   ],
   "source": [
    "# Write your answer\n",
    "\n",
    "# Way 1\n",
    "print(\"Name: Tianyi Zhang\")\n",
    "print(\"Class: QTM151\")\n",
    "\n",
    "\n",
    "import pyfiglet\n",
    "\n",
    "# name and class\n",
    "name = \"Tianyi Zhang\"\n",
    "class_name = \"QTM151\"\n",
    "\n",
    "fancy_name = pyfiglet.figlet_format(name)\n",
    "fancy_class = pyfiglet.figlet_format(class_name)\n",
    "\n",
    "print(\"Assignment 2\")\n",
    "print(fancy_name)\n",
    "print(fancy_class)"
   ]
  },
  {
   "attachments": {},
   "cell_type": "markdown",
   "metadata": {},
   "source": [
    "<font size = \"5\">\n",
    "\n",
    "(a) Import the pandas and matplotlib packages"
   ]
  },
  {
   "cell_type": "code",
   "execution_count": 2,
   "metadata": {},
   "outputs": [],
   "source": [
    "# Write your answer\n",
    "\n",
    "import pandas as pd\n",
    "import matplotlib.pyplot as plt"
   ]
  },
  {
   "attachments": {},
   "cell_type": "markdown",
   "metadata": {},
   "source": [
    "<font size = \"5\">\n",
    "\n",
    "(b) Open the dataset \"united_states_co2_emissions.csv\" in the \"data\" folder\n",
    "\n",
    "<font size = \"3\">\n",
    "\n",
    "- Read it as a pandas object called \"us_emissions\"\n",
    "- Note: This contains CO2 emissions (in kilotons) by the United States from 1960-2019. <br/> \n",
    "It is compiled from various sources, including the United Nations Framework Convention <br/>\n",
    "on Climate Change (UNFCCC) and the International Energy Agency (IEA)."
   ]
  },
  {
   "cell_type": "code",
   "execution_count": 8,
   "metadata": {},
   "outputs": [
    {
     "name": "stdout",
     "output_type": "stream",
     "text": [
      "   year  total_emissions\n",
      "0  1960      2890696.100\n",
      "1  1961      2880505.507\n",
      "2  1962      2987207.873\n",
      "3  1963      3119230.874\n",
      "4  1964      3255995.306\n",
      "The dataset contains data from 1960 to 2019.\n",
      "The dataset covers the full range from 1960 to 2019.\n"
     ]
    }
   ],
   "source": [
    "# Write your answer\n",
    "\n",
    "import pandas as pd\n",
    "\n",
    "# Read the dataset\n",
    "us_emissions = pd.read_csv('./data/united_states_co2_emissions.csv')\n",
    "\n",
    "# Display the first few rows to confirm it loaded correctly\n",
    "print(us_emissions.head())\n",
    "\n",
    "# Check the year range in the dataset\n",
    "min_year = us_emissions['year'].min()  # Find the earliest year\n",
    "max_year = us_emissions['year'].max()  # Find the latest year\n",
    "\n",
    "print(f\"The dataset contains data from {min_year} to {max_year}.\")\n",
    "\n",
    "if min_year <= 1960 and max_year >= 2019:\n",
    "    print(\"The dataset covers the full range from 1960 to 2019.\")\n",
    "else:\n",
    "    print(\"The dataset does not fully cover the range from 1960 to 2019.\")\n"
   ]
  },
  {
   "attachments": {},
   "cell_type": "markdown",
   "metadata": {},
   "source": [
    "<font size = \"5\">\n",
    "\n",
    "(c) View the dataset and create a list of variable names\n",
    "\n",
    "<font size = \"3\">\n",
    "\n",
    "- Create a list, e.g. \"variable_names = [ \"name1\", \"name2\"]\"\n",
    "\n",
    "- Manually type the names of the 2 variables\n",
    "\n"
   ]
  },
  {
   "cell_type": "code",
   "execution_count": 9,
   "metadata": {},
   "outputs": [
    {
     "name": "stdout",
     "output_type": "stream",
     "text": [
      "   year  total_emissions\n",
      "0  1960      2890696.100\n",
      "1  1961      2880505.507\n",
      "2  1962      2987207.873\n",
      "3  1963      3119230.874\n",
      "4  1964      3255995.306\n",
      "Index(['year', 'total_emissions'], dtype='object')\n"
     ]
    }
   ],
   "source": [
    "# Write your answer\n",
    "print(us_emissions.head())  \n",
    "print(us_emissions.columns)  \n",
    "\n",
    "\n",
    "\n",
    "\n",
    "\n"
   ]
  },
  {
   "attachments": {},
   "cell_type": "markdown",
   "metadata": {},
   "source": [
    "<font size = \"5\">\n",
    "\n",
    "(d) Compute descriptive statistics for the 2nd variable in the dataset\n",
    "\n",
    "<font size = \"3\">\n",
    "\n",
    "- One way to do this is:\n",
    "\n",
    "us_emissions[\"total_emissions\"].describe()\n",
    "\n",
    "- Do something similar, but with the list you created above.\n",
    "- Substitute \"total_emissions\" with a command that automatically extracts the 2nd element in the list\n",
    "- Remember that the numbering in Python starts at zero\n",
    "- For example:\n",
    "\n",
    "list_colors = [\"red\",\"green\",\"yellow\"]\n",
    "\n",
    "list_colors[2] will output \"yellow\""
   ]
  },
  {
   "cell_type": "code",
   "execution_count": 5,
   "metadata": {},
   "outputs": [],
   "source": [
    "# Write your answer\n",
    "\n"
   ]
  },
  {
   "attachments": {},
   "cell_type": "markdown",
   "metadata": {},
   "source": [
    "<font size = \"5\">\n",
    "\n",
    "(e) Import the datasets as you did in part (b) for any 2 countries from the <br/> \n",
    "\"data\" folder and create 2 scatter plots that have \"year\" in the x-axis and <br/>\n",
    "\"total_emissions\" in the y-axis.\n",
    "\n",
    "<font size = \"3\">\n",
    "\n",
    "- The \"data\" folder contains the datasets for the top 10 CO2 emitting countries\n",
    "- Label the axes for full points\n",
    "- Use \"plt.title(\"Relevant Title for Plot\")\" to label the title\n",
    "- Use \"plt.show()\" after creating each plot to ensure both are displayed\n",
    "- Note: This question does not depend on (d)"
   ]
  },
  {
   "cell_type": "code",
   "execution_count": 6,
   "metadata": {},
   "outputs": [],
   "source": [
    "# Write your answer\n",
    "\n"
   ]
  }
 ],
 "metadata": {
  "kernelspec": {
   "display_name": "base",
   "language": "python",
   "name": "python3"
  },
  "language_info": {
   "codemirror_mode": {
    "name": "ipython",
    "version": 3
   },
   "file_extension": ".py",
   "mimetype": "text/x-python",
   "name": "python",
   "nbconvert_exporter": "python",
   "pygments_lexer": "ipython3",
   "version": "3.12.7"
  },
  "orig_nbformat": 4
 },
 "nbformat": 4,
 "nbformat_minor": 2
}
