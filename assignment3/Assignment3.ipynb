{
 "cells": [
  {
   "attachments": {},
   "cell_type": "markdown",
   "metadata": {},
   "source": [
    "# Assignment 3\n",
    "\n",
    "### Tianyi Zhang"
   ]
  },
  {
   "attachments": {},
   "cell_type": "markdown",
   "metadata": {},
   "source": [
    "## Submit as an HTML file"
   ]
  },
  {
   "attachments": {},
   "cell_type": "markdown",
   "metadata": {},
   "source": [
    "<font size = \"5\">\n",
    "Print your Emory ID below"
   ]
  },
  {
   "cell_type": "code",
   "execution_count": 2,
   "metadata": {},
   "outputs": [
    {
     "name": "stdout",
     "output_type": "stream",
     "text": [
      "My Emory ID is 2486577\n"
     ]
    }
   ],
   "source": [
    "emory_id = 2486577\n",
    "print(f\"My Emory ID is {emory_id}\")"
   ]
  },
  {
   "cell_type": "code",
   "execution_count": 3,
   "metadata": {},
   "outputs": [
    {
     "name": "stdout",
     "output_type": "stream",
     "text": [
      "    ______                              ________   \n",
      "   / ____/___ ___  ____  _______  __   /  _/ __ \\_ \n",
      "  / __/ / __ `__ \\/ __ \\/ ___/ / / /   / // / / (_)\n",
      " / /___/ / / / / / /_/ / /  / /_/ /  _/ // /_/ /   \n",
      "/_____/_/ /_/ /_/\\____/_/   \\__, /  /___/_____(_)  \n",
      "                           /____/                  \n",
      "   ___  __ __  ____  _____ ________________\n",
      "  |__ \\/ // / ( __ )/ ___// ____/__  /__  /\n",
      "  __/ / // /_/ __  / __ \\/___ \\   / /  / / \n",
      " / __/__  __/ /_/ / /_/ /___/ /  / /  / /  \n",
      "/____/ /_/  \\____/\\____/_____/  /_/  /_/   \n",
      "                                           \n",
      "\n"
     ]
    }
   ],
   "source": [
    "from pyfiglet import Figlet\n",
    "\n",
    "emory_id = 2486577\n",
    "\n",
    "f = Figlet(font='slant') \n",
    "print(f.renderText(f'Emory ID: {emory_id}')) "
   ]
  },
  {
   "cell_type": "code",
   "execution_count": 4,
   "metadata": {},
   "outputs": [
    {
     "name": "stdout",
     "output_type": "stream",
     "text": [
      "\u001b[36m✨ Emory ID: \u001b[0m\u001b[5m\u001b[1m\u001b[33m2486577\u001b[0m\n"
     ]
    }
   ],
   "source": [
    "from termcolor import colored\n",
    "\n",
    "emory_id = 2486577\n",
    "print(colored(f\"✨ Emory ID: \", \"cyan\") + colored(f\"{emory_id}\", \"yellow\", attrs=[\"bold\", \"blink\"]))"
   ]
  },
  {
   "cell_type": "code",
   "execution_count": 5,
   "metadata": {},
   "outputs": [
    {
     "data": {
      "text/html": [
       "\n",
       "<div style=\"\n",
       "    border: 2px solid #3498db;\n",
       "    padding: 20px;\n",
       "    border-radius: 10px;\n",
       "    background: linear-gradient(45deg, #f3f9ff, #e0f0ff);\n",
       "    font-family: Arial;\n",
       "    text-align: center;\n",
       "    box-shadow: 0 4px 8px rgba(0,0,0,0.1);\n",
       "\">\n",
       "    <h2 style=\"color: #2c3e50; margin: 0;\">🔖 Emory ID</h2>\n",
       "    <p style=\"font-size: 24px; color: #e74c3c; font-weight: bold;\">2486577</p>\n",
       "</div>\n"
      ],
      "text/plain": [
       "<IPython.core.display.HTML object>"
      ]
     },
     "execution_count": 5,
     "metadata": {},
     "output_type": "execute_result"
    }
   ],
   "source": [
    "from IPython.display import HTML\n",
    "\n",
    "emory_id = 2486577\n",
    "html_code = f\"\"\"\n",
    "<div style=\"\n",
    "    border: 2px solid #3498db;\n",
    "    padding: 20px;\n",
    "    border-radius: 10px;\n",
    "    background: linear-gradient(45deg, #f3f9ff, #e0f0ff);\n",
    "    font-family: Arial;\n",
    "    text-align: center;\n",
    "    box-shadow: 0 4px 8px rgba(0,0,0,0.1);\n",
    "\">\n",
    "    <h2 style=\"color: #2c3e50; margin: 0;\">🔖 Emory ID</h2>\n",
    "    <p style=\"font-size: 24px; color: #e74c3c; font-weight: bold;\">{emory_id}</p>\n",
    "</div>\n",
    "\"\"\"\n",
    "\n",
    "HTML(html_code)"
   ]
  },
  {
   "cell_type": "code",
   "execution_count": 6,
   "metadata": {},
   "outputs": [
    {
     "name": "stdout",
     "output_type": "stream",
     "text": [
      "\n",
      "🔮✨ \u001b[1mEmory ID:\u001b[0m \u001b[3;34m2486577\u001b[0m ✨🔮\n",
      "\n"
     ]
    }
   ],
   "source": [
    "emory_id = 2486577\n",
    "print(f\"\\n🔮✨ \\033[1mEmory ID:\\033[0m \\033[3;34m{emory_id}\\033[0m ✨🔮\\n\")"
   ]
  },
  {
   "attachments": {},
   "cell_type": "markdown",
   "metadata": {},
   "source": [
    "<font size = \"5\">\n",
    "\n",
    "Import the numpy and matplotlib packages"
   ]
  },
  {
   "cell_type": "code",
   "execution_count": 7,
   "metadata": {},
   "outputs": [],
   "source": [
    "import numpy as np\n",
    "import matplotlib.pyplot as plt"
   ]
  },
  {
   "attachments": {},
   "cell_type": "markdown",
   "metadata": {},
   "source": [
    "<font size = \"5\">\n",
    "\n",
    "(a) Compute a formula:\n",
    "\n",
    "<font size = \"3\">\n",
    "\n",
    "The formula for the volume of a cone is:\n",
    "\n",
    "<font size = \"4\">\n",
    "\n",
    "$V = \\frac{1}{3} \\pi r^2 h$\n",
    "\n",
    "<font size = \"3\">\n",
    "\n",
    "Where:\n",
    "\n",
    "- $V$ is the volume of the cone\n",
    "- $r$ is the radius of the base\n",
    "- $h$ is the height of the cone\n",
    "\n",
    "Calculate $V$ when:\n",
    "\n",
    "- $r = 5$\n",
    "- $h = 10$\n",
    "\n",
    "\n",
    "To get full points:\n",
    "- First define each of these variables\n",
    "- Write the formula above\n",
    "- Print out the result"
   ]
  },
  {
   "cell_type": "code",
   "execution_count": 16,
   "metadata": {},
   "outputs": [
    {
     "name": "stdout",
     "output_type": "stream",
     "text": [
      "The volume of the cone is (2 decimals): 261.80\n",
      "The volume of the cone is: 261.79938779914943\n"
     ]
    }
   ],
   "source": [
    "r = 5\n",
    "h = 10\n",
    "V = (1/3) * np.pi * r**2 * h\n",
    "print(f\"The volume of the cone is (2 decimals): {V:.2f}\")\n",
    "\n",
    "print(f\"The volume of the cone is: {V}\")"
   ]
  },
  {
   "cell_type": "code",
   "execution_count": 9,
   "metadata": {},
   "outputs": [
    {
     "name": "stdout",
     "output_type": "stream",
     "text": [
      "The volume of the cone is: 261.80\n"
     ]
    }
   ],
   "source": [
    "import numpy as np\n",
    "\n",
    "def cone_volume(r, h):\n",
    "    V = (1/3) * np.pi * r**2 * h\n",
    "    return V\n",
    "\n",
    "# Define the variables\n",
    "r = 5  \n",
    "h = 10  \n",
    "\n",
    "volume = cone_volume(r, h)\n",
    "print(f\"The volume of the cone is: {volume:.2f}\")"
   ]
  },
  {
   "attachments": {},
   "cell_type": "markdown",
   "metadata": {},
   "source": [
    "<font size = \"5\">\n",
    "\n",
    "(b) Composite operations on arrays\n",
    "\n",
    "<font size = \"3\">\n",
    "\n",
    "- Define r = 0.1\n",
    "- Define x = 1\n",
    "- Define two arrays $A$ and $T$ using \"np.array()\", assigning the following values\n",
    "$ a = \\begin{pmatrix} a_1 \\\\ a_2 \\\\ a_3 \\end{pmatrix} = \\begin{pmatrix} 28 \\\\ 32 \\\\ 11 \\end{pmatrix}, \\qquad t = \\begin{pmatrix} t_1 \\\\ t_2 \\\\ t_3 \\end{pmatrix} = \\begin{pmatrix} 4 \\\\ 5 \\\\ 6 \\end{pmatrix} $\n",
    "\n",
    "- Use element-by-element vector operations to compute a new array $M$ of length 3:\n",
    "$ M = \\begin{pmatrix} a_1 \\cdot (1+r)^{t_1} + cos(x) \\\\ a_2 \\cdot (1+r)^{t_2} + cos(x) \\\\ a_3 \\cdot (1+r)^{t_3} + cos(x) \\end{pmatrix} $\n",
    "\n",
    "- Compute the sum of the values of $M$ using \"M.sum()\"\n",
    "Note: I am using subscripts to denote the individual elements of $a$ and $t$.\n",
    "\n",
    "- In the code just enter the values of $a$ and $t$.\n",
    "- To get full points you must do all of the above tasks\n"
   ]
  },
  {
   "cell_type": "code",
   "execution_count": 10,
   "metadata": {},
   "outputs": [
    {
     "name": "stdout",
     "output_type": "stream",
     "text": [
      "Array M: [41.53510231 52.07662231 20.02747331]\n",
      "Sum of values in M: 113.63919791760446\n"
     ]
    }
   ],
   "source": [
    "import numpy as np\n",
    "import matplotlib.pyplot as plt\n",
    "\n",
    "r = 0.1\n",
    "x = 1\n",
    "\n",
    "a = np.array([28, 32, 11])\n",
    "t = np.array([4, 5, 6])\n",
    "\n",
    "M = a * (1 + r) ** t + np.cos(x)\n",
    "\n",
    "print(\"Array M:\", M)\n",
    "\n",
    "M_sum = M.sum()\n",
    "\n",
    "print(\"Sum of values in M:\", M_sum)\n"
   ]
  },
  {
   "attachments": {},
   "cell_type": "markdown",
   "metadata": {},
   "source": [
    "<font size = \"5\">\n",
    "\n",
    "(c) Plot a normal random variable\n",
    "<font size = \"3\">\n",
    "\n",
    "To get full points:\n",
    "\n",
    "- Set a seed using \"np.random.seed()\"\n",
    "- Create the random variable with the following parameters\n",
    "- mean = 233, standard deviation = 99, and size = 1314\n",
    "\n",
    "- Create a histogram\n",
    "- Label the axes"
   ]
  },
  {
   "cell_type": "code",
   "execution_count": 11,
   "metadata": {},
   "outputs": [
    {
     "data": {
      "image/png": "[encoded data removed]",
      "text/plain": [
       "<Figure size 640x480 with 1 Axes>"
      ]
     },
     "metadata": {},
     "output_type": "display_data"
    }
   ],
   "source": [
    "import numpy as np\n",
    "import matplotlib.pyplot as plt\n",
    "\n",
    "np.random.seed(10086)\n",
    "\n",
    "# Create the rv\n",
    "mean = 233\n",
    "std_dev = 99\n",
    "size = 1314\n",
    "random_variable = np.random.normal(mean, std_dev, size)\n",
    "\n",
    "plt.hist(random_variable, bins=30, color='pink', edgecolor='black')\n",
    "plt.xlabel(\"Value\")\n",
    "plt.ylabel(\"Frequency\")\n",
    "plt.title(\"Histogram of Normal Random Variable\")\n",
    "plt.show()\n"
   ]
  },
  {
   "cell_type": "code",
   "execution_count": 12,
   "metadata": {},
   "outputs": [
    {
     "data": {
      "image/png": "[encoded data removed]",
      "text/plain": [
       "<Figure size 1000x600 with 1 Axes>"
      ]
     },
     "metadata": {},
     "output_type": "display_data"
    }
   ],
   "source": [
    "import numpy as np\n",
    "import matplotlib.pyplot as plt\n",
    "\n",
    "np.random.seed(10086)\n",
    "\n",
    "mean = 233\n",
    "std_dev = 99\n",
    "size = 1314\n",
    "random_variable = np.random.normal(mean, std_dev, size)\n",
    "\n",
    "plt.figure(figsize=(10, 6))\n",
    "plt.hist(random_variable, bins=40, color='cornflowerblue', edgecolor='black', alpha=0.7)\n",
    "plt.xlabel(\"Value\", fontsize=14)\n",
    "plt.ylabel(\"Frequency\", fontsize=14)\n",
    "plt.title(\"Histogram of Normal Random Variable\", fontsize=16)\n",
    "plt.grid(axis='y', linestyle='--', alpha=0.6) \n",
    "plt.axvline(mean, color='red', linestyle='dashed', linewidth=2, label=f\"Mean = {mean}\")\n",
    "plt.axvline(mean + std_dev, color='green', linestyle='dashed', linewidth=1.5, label=f\"Mean + Std Dev = {mean + std_dev}\")\n",
    "plt.axvline(mean - std_dev, color='green', linestyle='dashed', linewidth=1.5, label=f\"Mean - Std Dev = {mean - std_dev}\")\n",
    "plt.legend(fontsize=12)\n",
    "\n",
    "plt.tight_layout()\n",
    "plt.show()\n"
   ]
  },
  {
   "attachments": {},
   "cell_type": "markdown",
   "metadata": {},
   "source": [
    "<font size = \"5\">\n",
    "\n",
    "(d) Checking whether word is part of list\n",
    "\n",
    "<font size = \"3\">\n",
    "\n",
    "- Define a variable \"QSS\" with the value \"Statistics\"\n",
    "- Define a list of fruits with the values list_QSS = [\"Statistics\", \"CS\", \"Dara Science\", \"Math\"]\n",
    "- Write an expression to test whether \"QSS\" is contained in \"list_QSS\"\n",
    "\n",
    "Hint: Use the \"in\" command. The final output should be True/False.\n",
    "\n",
    "To get full points run all of the above commands"
   ]
  },
  {
   "cell_type": "code",
   "execution_count": 13,
   "metadata": {},
   "outputs": [
    {
     "name": "stdout",
     "output_type": "stream",
     "text": [
      "True\n"
     ]
    }
   ],
   "source": [
    "QSS = \"Statistics\"\n",
    "list_QSS = [\"Statistics\", \"CS\", \"Dara Science\", \"Math\"]\n",
    "\n",
    "print(QSS in list_QSS)"
   ]
  },
  {
   "cell_type": "markdown",
   "metadata": {},
   "source": [
    "<font size = \"5\">\n",
    "\n",
    "(e) Classifying a variable\n",
    "\n",
    "<font size = \"3\">\n",
    "\n",
    "- Define a new variable \"film_score\" and assign it \"70\"\n",
    "- Write an if/else statement that does the following\n",
    "    - print(\"Box-office Success\") if the score is strictly above 80.\n",
    "    - print(\"Intermediate Range\") if the score is weakly less than 80 and strictly above 20.\n",
    "    - print(\"Box-office Failure\") if the score does not fit in the above categories.\n",
    "\n",
    "\n",
    "To get full points you must do all of the above instructions"
   ]
  },
  {
   "cell_type": "code",
   "execution_count": 14,
   "metadata": {},
   "outputs": [
    {
     "name": "stdout",
     "output_type": "stream",
     "text": [
      "Intermediate Range\n"
     ]
    }
   ],
   "source": [
    "film_score = 70\n",
    "\n",
    "if film_score > 80:\n",
    "    print(\"Box-office Success\")\n",
    "elif 20 < film_score <= 80:\n",
    "    print(\"Intermediate Range\")\n",
    "else:\n",
    "    print(\"Box-office Failure\")"
   ]
  },
  {
   "cell_type": "code",
   "execution_count": 15,
   "metadata": {},
   "outputs": [
    {
     "name": "stdout",
     "output_type": "stream",
     "text": [
      "Intermediate Range\n"
     ]
    }
   ],
   "source": [
    "film_score = 70\n",
    "\n",
    "# Or else we can define a function\n",
    "def classify_film(score):\n",
    "    if score > 80:\n",
    "        return \"Box-office Success\"\n",
    "    elif 20 < score <= 80:\n",
    "        return \"Intermediate Range\"\n",
    "    else:\n",
    "        return \"Box-office Failure\"\n",
    "\n",
    "print(classify_film(film_score))\n"
   ]
  }
 ],
 "metadata": {
  "kernelspec": {
   "display_name": "base",
   "language": "python",
   "name": "python3"
  },
  "language_info": {
   "codemirror_mode": {
    "name": "ipython",
    "version": 3
   },
   "file_extension": ".py",
   "mimetype": "text/x-python",
   "name": "python",
   "nbconvert_exporter": "python",
   "pygments_lexer": "ipython3",
   "version": "3.12.7"
  },
  "orig_nbformat": 4
 },
 "nbformat": 4,
 "nbformat_minor": 2
}
